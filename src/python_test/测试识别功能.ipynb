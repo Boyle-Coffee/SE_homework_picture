{
 "cells": [
  {
   "cell_type": "code",
   "execution_count": 1,
   "metadata": {
    "ExecuteTime": {
     "end_time": "2020-11-11T15:43:53.175944Z",
     "start_time": "2020-11-11T15:43:51.805607Z"
    }
   },
   "outputs": [],
   "source": [
    "import numpy as np\n",
    "import base64\n",
    "import pandas\n",
    "import matplotlib.pyplot as plt\n",
    "import json\n",
    "import requests\n",
    "import cv2\n",
    "from skimage import io"
   ]
  },
  {
   "cell_type": "code",
   "execution_count": 6,
   "metadata": {
    "ExecuteTime": {
     "end_time": "2020-11-11T15:45:28.026869Z",
     "start_time": "2020-11-11T15:45:28.023876Z"
    }
   },
   "outputs": [],
   "source": [
    "host = \"http://localhost:8000\""
   ]
  },
  {
   "cell_type": "code",
   "execution_count": 7,
   "metadata": {
    "ExecuteTime": {
     "end_time": "2020-11-11T15:45:31.625275Z",
     "start_time": "2020-11-11T15:45:29.594677Z"
    }
   },
   "outputs": [
    {
     "data": {
      "text/plain": [
       "b'{\"code\": 200, \"isSuccess\": true, \"message\": null, \"data\": \"Hello world!\"}'"
      ]
     },
     "execution_count": 7,
     "metadata": {},
     "output_type": "execute_result"
    }
   ],
   "source": [
    "path = \"/imageRecognition\"\n",
    "\n",
    "url = host + path\n",
    "params = json.dumps({\n",
    "         \"url\": \"111\"\n",
    "        })\n",
    "aheaders = {'Content-Type': 'application/json'}\n",
    "\n",
    "res = requests.post(url,headers=aheaders, data = params)\n",
    "res.content"
   ]
  },
  {
   "cell_type": "code",
   "execution_count": null,
   "metadata": {},
   "outputs": [],
   "source": []
  }
 ],
 "metadata": {
  "hide_input": false,
  "kernelspec": {
   "display_name": "Python 3",
   "language": "python",
   "name": "python3"
  },
  "language_info": {
   "codemirror_mode": {
    "name": "ipython",
    "version": 3
   },
   "file_extension": ".py",
   "mimetype": "text/x-python",
   "name": "python",
   "nbconvert_exporter": "python",
   "pygments_lexer": "ipython3",
   "version": "3.7.3"
  },
  "toc": {
   "base_numbering": 1,
   "nav_menu": {},
   "number_sections": true,
   "sideBar": true,
   "skip_h1_title": false,
   "title_cell": "Table of Contents",
   "title_sidebar": "Contents",
   "toc_cell": false,
   "toc_position": {},
   "toc_section_display": true,
   "toc_window_display": false
  },
  "varInspector": {
   "cols": {
    "lenName": 16,
    "lenType": 16,
    "lenVar": 40
   },
   "kernels_config": {
    "python": {
     "delete_cmd_postfix": "",
     "delete_cmd_prefix": "del ",
     "library": "var_list.py",
     "varRefreshCmd": "print(var_dic_list())"
    },
    "r": {
     "delete_cmd_postfix": ") ",
     "delete_cmd_prefix": "rm(",
     "library": "var_list.r",
     "varRefreshCmd": "cat(var_dic_list()) "
    }
   },
   "types_to_exclude": [
    "module",
    "function",
    "builtin_function_or_method",
    "instance",
    "_Feature"
   ],
   "window_display": false
  }
 },
 "nbformat": 4,
 "nbformat_minor": 4
}
