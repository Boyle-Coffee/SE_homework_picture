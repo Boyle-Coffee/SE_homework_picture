{
 "cells": [
  {
   "cell_type": "code",
   "execution_count": 1,
   "metadata": {
    "ExecuteTime": {
     "end_time": "2020-08-16T01:17:15.253060Z",
     "start_time": "2020-08-16T01:17:14.184036Z"
    }
   },
   "outputs": [],
   "source": [
    "import numpy as np\n",
    "import base64\n",
    "import pandas\n",
    "import matplotlib.pyplot as plt\n",
    "import json\n",
    "import requests\n",
    "import cv2\n",
    "from skimage import io"
   ]
  },
  {
   "cell_type": "code",
   "execution_count": 2,
   "metadata": {
    "ExecuteTime": {
     "end_time": "2020-08-16T01:17:15.755037Z",
     "start_time": "2020-08-16T01:17:15.752033Z"
    }
   },
   "outputs": [],
   "source": [
    "# 将base64格式数据转换为NumPy数组\n",
    "def base64_to_np(img_base64):\n",
    "    img_data = base64.b64decode(img_base64)\n",
    "    nparr = np.fromstring(img_data, np.uint8)\n",
    "    img_np = cv2.imdecode(nparr, cv2.IMREAD_COLOR)\n",
    "    return img_np\n",
    "\n",
    "# 将NumPy数组转换为base64格式数据\n",
    "def np_to_base64(img_np):\n",
    "    retval, buffer = cv2.imencode('.jpg', img_np)\n",
    "    img_base64 = base64.b64encode(buffer)\n",
    "    img_base64 = img_base64.decode()\n",
    "    return img_base64"
   ]
  },
  {
   "cell_type": "code",
   "execution_count": 3,
   "metadata": {
    "ExecuteTime": {
     "end_time": "2020-08-16T01:17:18.146033Z",
     "start_time": "2020-08-16T01:17:18.143033Z"
    }
   },
   "outputs": [],
   "source": [
    "host = \"http://localhost:8003\""
   ]
  },
  {
   "cell_type": "code",
   "execution_count": 4,
   "metadata": {
    "ExecuteTime": {
     "end_time": "2020-08-16T01:17:23.177612Z",
     "start_time": "2020-08-16T01:17:21.073613Z"
    }
   },
   "outputs": [
    {
     "data": {
      "text/plain": [
       "{'code': 500, 'isSuccess': False, 'message': []}"
      ]
     },
     "execution_count": 4,
     "metadata": {},
     "output_type": "execute_result"
    }
   ],
   "source": [
    "path = \"/Photo/entryInformation\"\n",
    "url = host+path\n",
    "image = io.imread(\"image/2.jfif\")\n",
    "image_base64 = np_to_base64(image)\n",
    "param = {\"image\": image_base64,\n",
    "         \"uid\":12\n",
    "        }\n",
    "aheaders = {'Content-Type': 'application/json'}\n",
    "res = requests.post(url,headers=aheaders, data = json.dumps(param))\n",
    "json.loads(res.content)"
   ]
  },
  {
   "cell_type": "code",
   "execution_count": null,
   "metadata": {},
   "outputs": [],
   "source": []
  }
 ],
 "metadata": {
  "kernelspec": {
   "display_name": "Python 3",
   "language": "python",
   "name": "python3"
  },
  "language_info": {
   "codemirror_mode": {
    "name": "ipython",
    "version": 3
   },
   "file_extension": ".py",
   "mimetype": "text/x-python",
   "name": "python",
   "nbconvert_exporter": "python",
   "pygments_lexer": "ipython3",
   "version": "3.6.5rc1"
  },
  "toc": {
   "base_numbering": 1,
   "nav_menu": {},
   "number_sections": true,
   "sideBar": true,
   "skip_h1_title": false,
   "title_cell": "Table of Contents",
   "title_sidebar": "Contents",
   "toc_cell": false,
   "toc_position": {},
   "toc_section_display": true,
   "toc_window_display": false
  },
  "varInspector": {
   "cols": {
    "lenName": 16,
    "lenType": 16,
    "lenVar": 40
   },
   "kernels_config": {
    "python": {
     "delete_cmd_postfix": "",
     "delete_cmd_prefix": "del ",
     "library": "var_list.py",
     "varRefreshCmd": "print(var_dic_list())"
    },
    "r": {
     "delete_cmd_postfix": ") ",
     "delete_cmd_prefix": "rm(",
     "library": "var_list.r",
     "varRefreshCmd": "cat(var_dic_list()) "
    }
   },
   "types_to_exclude": [
    "module",
    "function",
    "builtin_function_or_method",
    "instance",
    "_Feature"
   ],
   "window_display": false
  }
 },
 "nbformat": 4,
 "nbformat_minor": 2
}
